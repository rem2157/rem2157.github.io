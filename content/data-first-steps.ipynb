{
 "cells": [
  {
   "cell_type": "markdown",
   "metadata": {},
   "source": [
    "Citibike, a bike share program in NYC, collects, maintains, and makes public data about the entire bikeshare system and all rides made. On a personal level, Citibike allows users to download their trip history from the \"Trips\" link in their user profile. The available personal data consists of each trip's starting dock, starting time, ending dock, ending time and the duration of the trip. Fine location data is notably missing -- the bikes themselves do not contain any sort of location awareness.\n",
    "\n",
    "While exploring this data and working some tools that are relatively new to me (Jupyter Notebook, pandas, etc.), I'll investigate some theories that I have about the way I ride, and some of the ways that Citibike as a whole operates. For exmaple, in the Citibike app, the program assumes that the rider rides [7.456 miles per hour](https://www.citibikenyc.com/system-data) when presenting the user with a \"distance\" for each of their completed rides. Do I ride faster or slower than that? Are my distance numbers underestimated or overestimated?\n",
    "\n",
    "First, I'll start by reading a text file containing the trips exported from my user profile. Then, I'll clean up some of the data types and isolate unique trips by start and end stations."
   ]
  },
  {
   "cell_type": "code",
   "execution_count": 21,
   "metadata": {},
   "outputs": [],
   "source": [
    "import pandas as pd\n",
    "import numpy as np\n",
    "import googlemaps\n",
    "import config\n",
    "\n",
    "import matplotlib\n",
    "import matplotlib.pyplot as plt\n",
    "\n",
    "matplotlib.style.use('ggplot') \n",
    "\n",
    "gmaps = googlemaps.Client(key=config.gmaps_api_key)"
   ]
  },
  {
   "cell_type": "code",
   "execution_count": 22,
   "metadata": {},
   "outputs": [
    {
     "data": {
      "text/html": [
       "<div>\n",
       "<style scoped>\n",
       "    .dataframe tbody tr th:only-of-type {\n",
       "        vertical-align: middle;\n",
       "    }\n",
       "\n",
       "    .dataframe tbody tr th {\n",
       "        vertical-align: top;\n",
       "    }\n",
       "\n",
       "    .dataframe thead th {\n",
       "        text-align: right;\n",
       "    }\n",
       "</style>\n",
       "<table border=\"1\" class=\"dataframe\">\n",
       "  <thead>\n",
       "    <tr style=\"text-align: right;\">\n",
       "      <th></th>\n",
       "      <th>start_time</th>\n",
       "      <th>start_loc</th>\n",
       "      <th>end_time</th>\n",
       "      <th>end_loc</th>\n",
       "      <th>duration</th>\n",
       "    </tr>\n",
       "  </thead>\n",
       "  <tbody>\n",
       "    <tr>\n",
       "      <th>0</th>\n",
       "      <td>2018-04-28 14:24:58</td>\n",
       "      <td>Bond St &amp; Fulton St</td>\n",
       "      <td>2018-04-28 15:12:36</td>\n",
       "      <td>11 St &amp; 35 Ave</td>\n",
       "      <td>00:47:38</td>\n",
       "    </tr>\n",
       "    <tr>\n",
       "      <th>1</th>\n",
       "      <td>2018-04-24 08:09:43</td>\n",
       "      <td>1 Ave &amp; E 68 St</td>\n",
       "      <td>2018-04-24 08:29:39</td>\n",
       "      <td>E 19 St &amp; 3 Ave</td>\n",
       "      <td>00:19:56</td>\n",
       "    </tr>\n",
       "    <tr>\n",
       "      <th>2</th>\n",
       "      <td>2018-04-23 08:20:09</td>\n",
       "      <td>Bond St &amp; Fulton St</td>\n",
       "      <td>2018-04-23 08:46:25</td>\n",
       "      <td>E 19 St &amp; 3 Ave</td>\n",
       "      <td>00:26:16</td>\n",
       "    </tr>\n",
       "    <tr>\n",
       "      <th>3</th>\n",
       "      <td>2018-04-18 17:55:20</td>\n",
       "      <td>E 19 St &amp; 3 Ave</td>\n",
       "      <td>2018-04-18 18:25:50</td>\n",
       "      <td>Bond St &amp; Fulton St</td>\n",
       "      <td>00:30:30</td>\n",
       "    </tr>\n",
       "    <tr>\n",
       "      <th>4</th>\n",
       "      <td>2018-04-14 18:35:31</td>\n",
       "      <td>Central Park West &amp; W 85 St</td>\n",
       "      <td>2018-04-14 18:47:31</td>\n",
       "      <td>E 71 St &amp; 1 Ave</td>\n",
       "      <td>00:12:00</td>\n",
       "    </tr>\n",
       "  </tbody>\n",
       "</table>\n",
       "</div>"
      ],
      "text/plain": [
       "           start_time                    start_loc            end_time  \\\n",
       "0 2018-04-28 14:24:58          Bond St & Fulton St 2018-04-28 15:12:36   \n",
       "1 2018-04-24 08:09:43              1 Ave & E 68 St 2018-04-24 08:29:39   \n",
       "2 2018-04-23 08:20:09          Bond St & Fulton St 2018-04-23 08:46:25   \n",
       "3 2018-04-18 17:55:20              E 19 St & 3 Ave 2018-04-18 18:25:50   \n",
       "4 2018-04-14 18:35:31  Central Park West & W 85 St 2018-04-14 18:47:31   \n",
       "\n",
       "               end_loc duration  \n",
       "0       11 St & 35 Ave 00:47:38  \n",
       "1      E 19 St & 3 Ave 00:19:56  \n",
       "2      E 19 St & 3 Ave 00:26:16  \n",
       "3  Bond St & Fulton St 00:30:30  \n",
       "4      E 71 St & 1 Ave 00:12:00  "
      ]
     },
     "execution_count": 22,
     "metadata": {},
     "output_type": "execute_result"
    }
   ],
   "source": [
    "# Read text file into pandas. By observation, use new line as separator declare no header so first line is read as data.\n",
    "trips_df = pd.read_csv('trips.txt', sep=\"\\n\", header=None)\n",
    "\n",
    "# Convert df from number_of_trips*5 by 1 to number_of_trips by 5\n",
    "trips_df = (pd.DataFrame(np.reshape(trips_df.values,(round(len(trips_df)/5), 5)), \n",
    "                         columns=['start_time','start_loc','end_time','end_loc','duration']))\n",
    "\n",
    "# Convert strings of times to datetimes\n",
    "trips_df[['start_time','end_time']] = trips_df[['start_time','end_time']].apply(pd.to_datetime)\n",
    "\n",
    "# Replace imported duration time with datetime calculated from start and end times.\n",
    "trips_df['duration'] = trips_df['end_time'] - trips_df['start_time']\n",
    "\n",
    "trips_df.head()"
   ]
  },
  {
   "cell_type": "code",
   "execution_count": 23,
   "metadata": {},
   "outputs": [],
   "source": [
    "# Count number of trips that start and end at same station. For these trips, assume no meaningful travel. Sum durations for later reporting.\n",
    "non_trips = sum(trips_df['start_loc'] == trips_df['end_loc'])\n",
    "non_trips_time = trips_df[trips_df['start_loc'] == trips_df['end_loc']]['duration'].sum()\n",
    "\n",
    "# Drop these trips, reset index.\n",
    "trips_df.drop(trips_df[trips_df['start_loc'] == trips_df['end_loc']].index, inplace = True)\n",
    "trips_df.reset_index(inplace = True, drop = True)\n",
    "\n",
    "# Append city and state to locations to avoid ambiguity.\n",
    "\n",
    "trips_df[['start_loc','end_loc']] = trips_df[['start_loc','end_loc']].astype(str) + \", New York, NY\""
   ]
  },
  {
   "cell_type": "code",
   "execution_count": 24,
   "metadata": {},
   "outputs": [
    {
     "data": {
      "text/html": [
       "<div>\n",
       "<style scoped>\n",
       "    .dataframe tbody tr th:only-of-type {\n",
       "        vertical-align: middle;\n",
       "    }\n",
       "\n",
       "    .dataframe tbody tr th {\n",
       "        vertical-align: top;\n",
       "    }\n",
       "\n",
       "    .dataframe thead th {\n",
       "        text-align: right;\n",
       "    }\n",
       "</style>\n",
       "<table border=\"1\" class=\"dataframe\">\n",
       "  <thead>\n",
       "    <tr style=\"text-align: right;\">\n",
       "      <th></th>\n",
       "      <th>start_time</th>\n",
       "      <th>start_loc</th>\n",
       "      <th>end_time</th>\n",
       "      <th>end_loc</th>\n",
       "      <th>duration</th>\n",
       "    </tr>\n",
       "  </thead>\n",
       "  <tbody>\n",
       "    <tr>\n",
       "      <th>0</th>\n",
       "      <td>2018-04-28 14:24:58</td>\n",
       "      <td>Bond St &amp; Fulton St, New York, NY</td>\n",
       "      <td>2018-04-28 15:12:36</td>\n",
       "      <td>11 St &amp; 35 Ave, New York, NY</td>\n",
       "      <td>00:47:38</td>\n",
       "    </tr>\n",
       "    <tr>\n",
       "      <th>1</th>\n",
       "      <td>2018-04-24 08:09:43</td>\n",
       "      <td>1 Ave &amp; E 68 St, New York, NY</td>\n",
       "      <td>2018-04-24 08:29:39</td>\n",
       "      <td>E 19 St &amp; 3 Ave, New York, NY</td>\n",
       "      <td>00:19:56</td>\n",
       "    </tr>\n",
       "    <tr>\n",
       "      <th>2</th>\n",
       "      <td>2018-04-23 08:20:09</td>\n",
       "      <td>Bond St &amp; Fulton St, New York, NY</td>\n",
       "      <td>2018-04-23 08:46:25</td>\n",
       "      <td>E 19 St &amp; 3 Ave, New York, NY</td>\n",
       "      <td>00:26:16</td>\n",
       "    </tr>\n",
       "    <tr>\n",
       "      <th>3</th>\n",
       "      <td>2018-04-18 17:55:20</td>\n",
       "      <td>E 19 St &amp; 3 Ave, New York, NY</td>\n",
       "      <td>2018-04-18 18:25:50</td>\n",
       "      <td>Bond St &amp; Fulton St, New York, NY</td>\n",
       "      <td>00:30:30</td>\n",
       "    </tr>\n",
       "    <tr>\n",
       "      <th>4</th>\n",
       "      <td>2018-04-14 18:35:31</td>\n",
       "      <td>Central Park West &amp; W 85 St, New York, NY</td>\n",
       "      <td>2018-04-14 18:47:31</td>\n",
       "      <td>E 71 St &amp; 1 Ave, New York, NY</td>\n",
       "      <td>00:12:00</td>\n",
       "    </tr>\n",
       "  </tbody>\n",
       "</table>\n",
       "</div>"
      ],
      "text/plain": [
       "           start_time                                  start_loc  \\\n",
       "0 2018-04-28 14:24:58          Bond St & Fulton St, New York, NY   \n",
       "1 2018-04-24 08:09:43              1 Ave & E 68 St, New York, NY   \n",
       "2 2018-04-23 08:20:09          Bond St & Fulton St, New York, NY   \n",
       "3 2018-04-18 17:55:20              E 19 St & 3 Ave, New York, NY   \n",
       "4 2018-04-14 18:35:31  Central Park West & W 85 St, New York, NY   \n",
       "\n",
       "             end_time                            end_loc duration  \n",
       "0 2018-04-28 15:12:36       11 St & 35 Ave, New York, NY 00:47:38  \n",
       "1 2018-04-24 08:29:39      E 19 St & 3 Ave, New York, NY 00:19:56  \n",
       "2 2018-04-23 08:46:25      E 19 St & 3 Ave, New York, NY 00:26:16  \n",
       "3 2018-04-18 18:25:50  Bond St & Fulton St, New York, NY 00:30:30  \n",
       "4 2018-04-14 18:47:31      E 71 St & 1 Ave, New York, NY 00:12:00  "
      ]
     },
     "execution_count": 24,
     "metadata": {},
     "output_type": "execute_result"
    }
   ],
   "source": [
    "trips_df.head()"
   ]
  },
  {
   "cell_type": "code",
   "execution_count": 25,
   "metadata": {},
   "outputs": [
    {
     "data": {
      "text/html": [
       "<div>\n",
       "<style scoped>\n",
       "    .dataframe tbody tr th:only-of-type {\n",
       "        vertical-align: middle;\n",
       "    }\n",
       "\n",
       "    .dataframe tbody tr th {\n",
       "        vertical-align: top;\n",
       "    }\n",
       "\n",
       "    .dataframe thead th {\n",
       "        text-align: right;\n",
       "    }\n",
       "</style>\n",
       "<table border=\"1\" class=\"dataframe\">\n",
       "  <thead>\n",
       "    <tr style=\"text-align: right;\">\n",
       "      <th></th>\n",
       "      <th>start_loc</th>\n",
       "      <th>end_loc</th>\n",
       "      <th>count</th>\n",
       "    </tr>\n",
       "  </thead>\n",
       "  <tbody>\n",
       "    <tr>\n",
       "      <th>0</th>\n",
       "      <td>1 Ave &amp; E 16 St, New York, NY</td>\n",
       "      <td>Duffield St &amp; Willoughby St, New York, NY</td>\n",
       "      <td>1</td>\n",
       "    </tr>\n",
       "    <tr>\n",
       "      <th>1</th>\n",
       "      <td>1 Ave &amp; E 68 St, New York, NY</td>\n",
       "      <td>E 17 St &amp; Broadway, New York, NY</td>\n",
       "      <td>1</td>\n",
       "    </tr>\n",
       "    <tr>\n",
       "      <th>2</th>\n",
       "      <td>1 Ave &amp; E 68 St, New York, NY</td>\n",
       "      <td>E 19 St &amp; 3 Ave, New York, NY</td>\n",
       "      <td>14</td>\n",
       "    </tr>\n",
       "    <tr>\n",
       "      <th>3</th>\n",
       "      <td>1 Ave &amp; E 68 St, New York, NY</td>\n",
       "      <td>E 20 St &amp; Park Ave, New York, NY</td>\n",
       "      <td>2</td>\n",
       "    </tr>\n",
       "    <tr>\n",
       "      <th>4</th>\n",
       "      <td>1 Ave &amp; E 68 St, New York, NY</td>\n",
       "      <td>E 44 St &amp; 2 Ave, New York, NY</td>\n",
       "      <td>1</td>\n",
       "    </tr>\n",
       "  </tbody>\n",
       "</table>\n",
       "</div>"
      ],
      "text/plain": [
       "                       start_loc                                    end_loc  \\\n",
       "0  1 Ave & E 16 St, New York, NY  Duffield St & Willoughby St, New York, NY   \n",
       "1  1 Ave & E 68 St, New York, NY           E 17 St & Broadway, New York, NY   \n",
       "2  1 Ave & E 68 St, New York, NY              E 19 St & 3 Ave, New York, NY   \n",
       "3  1 Ave & E 68 St, New York, NY           E 20 St & Park Ave, New York, NY   \n",
       "4  1 Ave & E 68 St, New York, NY              E 44 St & 2 Ave, New York, NY   \n",
       "\n",
       "   count  \n",
       "0      1  \n",
       "1      1  \n",
       "2     14  \n",
       "3      2  \n",
       "4      1  "
      ]
     },
     "execution_count": 25,
     "metadata": {},
     "output_type": "execute_result"
    }
   ],
   "source": [
    "# Group and count rows where start_loc and end_loc have the same values. Reset index and rename column to be count.\n",
    "# Create a unique df so as to minimize the number of hits on the Google Maps API.\n",
    "\n",
    "unique = trips_df.groupby(['start_loc','end_loc']).size().reset_index().rename(columns= {0:'count'})\n",
    "unique.head()"
   ]
  },
  {
   "cell_type": "markdown",
   "metadata": {},
   "source": [
    "Finding the unique trips serves a two fold purpose, one, it's interesting to see which trips I take most frequently; and two, it will reduce the number of hits on the Google Maps API.\n",
    "\n",
    "Here, I'll use the Google Maps Directions API to get bike directions. Since I rarely ride the wrong way on one way streets or go too far out of my way to find a bike lane, let's assume that I ride those routes for my trips."
   ]
  },
  {
   "cell_type": "code",
   "execution_count": 6,
   "metadata": {},
   "outputs": [],
   "source": [
    "# Define function that will use Google Maps API to retrieve assumed routes for all unique trips.\n",
    "\n",
    "def get_bike_directions(row):\n",
    "    origin = row['start_loc']\n",
    "    destination = row['end_loc']\n",
    "    mode = \"bicycling\"\n",
    "    return gmaps.directions(origin, destination, mode)\n",
    "\n",
    "directions = unique.apply(get_bike_directions, axis = 1)"
   ]
  },
  {
   "cell_type": "code",
   "execution_count": 26,
   "metadata": {},
   "outputs": [],
   "source": [
    "unique['directions'] = directions"
   ]
  },
  {
   "cell_type": "code",
   "execution_count": 27,
   "metadata": {},
   "outputs": [],
   "source": [
    "# Parse returned JSON to extract overall distance and overall duration of route.\n",
    "\n",
    "unique['dist'] = unique['directions'].apply(lambda x : x[0][\"legs\"][0]['distance']['text'])\n",
    "unique['google_time'] = unique['directions'].apply(lambda x : x[0][\"legs\"][0]['duration']['text'])"
   ]
  },
  {
   "cell_type": "code",
   "execution_count": 28,
   "metadata": {},
   "outputs": [
    {
     "data": {
      "text/html": [
       "<div>\n",
       "<style scoped>\n",
       "    .dataframe tbody tr th:only-of-type {\n",
       "        vertical-align: middle;\n",
       "    }\n",
       "\n",
       "    .dataframe tbody tr th {\n",
       "        vertical-align: top;\n",
       "    }\n",
       "\n",
       "    .dataframe thead th {\n",
       "        text-align: right;\n",
       "    }\n",
       "</style>\n",
       "<table border=\"1\" class=\"dataframe\">\n",
       "  <thead>\n",
       "    <tr style=\"text-align: right;\">\n",
       "      <th></th>\n",
       "      <th>start_loc</th>\n",
       "      <th>end_loc</th>\n",
       "      <th>count</th>\n",
       "      <th>directions</th>\n",
       "      <th>dist</th>\n",
       "      <th>google_time</th>\n",
       "    </tr>\n",
       "  </thead>\n",
       "  <tbody>\n",
       "    <tr>\n",
       "      <th>0</th>\n",
       "      <td>1 Ave &amp; E 16 St, New York, NY</td>\n",
       "      <td>Duffield St &amp; Willoughby St, New York, NY</td>\n",
       "      <td>1</td>\n",
       "      <td>[{'bounds': {'northeast': {'lat': 40.7333362, ...</td>\n",
       "      <td>3.6 mi</td>\n",
       "      <td>22 mins</td>\n",
       "    </tr>\n",
       "    <tr>\n",
       "      <th>1</th>\n",
       "      <td>1 Ave &amp; E 68 St, New York, NY</td>\n",
       "      <td>E 17 St &amp; Broadway, New York, NY</td>\n",
       "      <td>1</td>\n",
       "      <td>[{'bounds': {'northeast': {'lat': 40.7652381, ...</td>\n",
       "      <td>3.5 mi</td>\n",
       "      <td>20 mins</td>\n",
       "    </tr>\n",
       "    <tr>\n",
       "      <th>2</th>\n",
       "      <td>1 Ave &amp; E 68 St, New York, NY</td>\n",
       "      <td>E 19 St &amp; 3 Ave, New York, NY</td>\n",
       "      <td>14</td>\n",
       "      <td>[{'bounds': {'northeast': {'lat': 40.7652381, ...</td>\n",
       "      <td>3.1 mi</td>\n",
       "      <td>17 mins</td>\n",
       "    </tr>\n",
       "    <tr>\n",
       "      <th>3</th>\n",
       "      <td>1 Ave &amp; E 68 St, New York, NY</td>\n",
       "      <td>E 20 St &amp; Park Ave, New York, NY</td>\n",
       "      <td>2</td>\n",
       "      <td>[{'bounds': {'northeast': {'lat': 40.7652381, ...</td>\n",
       "      <td>3.5 mi</td>\n",
       "      <td>20 mins</td>\n",
       "    </tr>\n",
       "    <tr>\n",
       "      <th>4</th>\n",
       "      <td>1 Ave &amp; E 68 St, New York, NY</td>\n",
       "      <td>E 44 St &amp; 2 Ave, New York, NY</td>\n",
       "      <td>1</td>\n",
       "      <td>[{'bounds': {'northeast': {'lat': 40.7652381, ...</td>\n",
       "      <td>1.8 mi</td>\n",
       "      <td>10 mins</td>\n",
       "    </tr>\n",
       "  </tbody>\n",
       "</table>\n",
       "</div>"
      ],
      "text/plain": [
       "                       start_loc                                    end_loc  \\\n",
       "0  1 Ave & E 16 St, New York, NY  Duffield St & Willoughby St, New York, NY   \n",
       "1  1 Ave & E 68 St, New York, NY           E 17 St & Broadway, New York, NY   \n",
       "2  1 Ave & E 68 St, New York, NY              E 19 St & 3 Ave, New York, NY   \n",
       "3  1 Ave & E 68 St, New York, NY           E 20 St & Park Ave, New York, NY   \n",
       "4  1 Ave & E 68 St, New York, NY              E 44 St & 2 Ave, New York, NY   \n",
       "\n",
       "   count                                         directions    dist  \\\n",
       "0      1  [{'bounds': {'northeast': {'lat': 40.7333362, ...  3.6 mi   \n",
       "1      1  [{'bounds': {'northeast': {'lat': 40.7652381, ...  3.5 mi   \n",
       "2     14  [{'bounds': {'northeast': {'lat': 40.7652381, ...  3.1 mi   \n",
       "3      2  [{'bounds': {'northeast': {'lat': 40.7652381, ...  3.5 mi   \n",
       "4      1  [{'bounds': {'northeast': {'lat': 40.7652381, ...  1.8 mi   \n",
       "\n",
       "  google_time  \n",
       "0     22 mins  \n",
       "1     20 mins  \n",
       "2     17 mins  \n",
       "3     20 mins  \n",
       "4     10 mins  "
      ]
     },
     "execution_count": 28,
     "metadata": {},
     "output_type": "execute_result"
    }
   ],
   "source": [
    "unique.head()"
   ]
  },
  {
   "cell_type": "markdown",
   "metadata": {},
   "source": [
    "Here, I left outer join \"all trips\" with \"unique trips\". A note: it would be more efficient to do the little bit of cleaning prior to the join."
   ]
  },
  {
   "cell_type": "code",
   "execution_count": 29,
   "metadata": {},
   "outputs": [],
   "source": [
    "trips_df = pd.merge(trips_df, unique, how='left', left_on=['start_loc','end_loc'], right_on=['start_loc','end_loc']).drop(['count'], axis =1)"
   ]
  },
  {
   "cell_type": "code",
   "execution_count": 30,
   "metadata": {},
   "outputs": [],
   "source": [
    "trips_df['dist'] = trips_df['dist'].apply(lambda x : x[:-3])"
   ]
  },
  {
   "cell_type": "code",
   "execution_count": 31,
   "metadata": {},
   "outputs": [],
   "source": [
    "trips_df = trips_df.rename(columns={'dist':'dist_miles'})"
   ]
  },
  {
   "cell_type": "code",
   "execution_count": 32,
   "metadata": {},
   "outputs": [],
   "source": [
    "trips_df['speed_mph'] = trips_df['dist_miles'].astype(float) / (trips_df['duration']/np.timedelta64(1, 'h'))"
   ]
  },
  {
   "cell_type": "code",
   "execution_count": 33,
   "metadata": {},
   "outputs": [
    {
     "data": {
      "text/html": [
       "<div>\n",
       "<style scoped>\n",
       "    .dataframe tbody tr th:only-of-type {\n",
       "        vertical-align: middle;\n",
       "    }\n",
       "\n",
       "    .dataframe tbody tr th {\n",
       "        vertical-align: top;\n",
       "    }\n",
       "\n",
       "    .dataframe thead th {\n",
       "        text-align: right;\n",
       "    }\n",
       "</style>\n",
       "<table border=\"1\" class=\"dataframe\">\n",
       "  <thead>\n",
       "    <tr style=\"text-align: right;\">\n",
       "      <th></th>\n",
       "      <th>start_time</th>\n",
       "      <th>start_loc</th>\n",
       "      <th>end_time</th>\n",
       "      <th>end_loc</th>\n",
       "      <th>duration</th>\n",
       "      <th>directions</th>\n",
       "      <th>dist_miles</th>\n",
       "      <th>google_time</th>\n",
       "      <th>speed_mph</th>\n",
       "    </tr>\n",
       "  </thead>\n",
       "  <tbody>\n",
       "    <tr>\n",
       "      <th>0</th>\n",
       "      <td>2018-04-28 14:24:58</td>\n",
       "      <td>Bond St &amp; Fulton St, New York, NY</td>\n",
       "      <td>2018-04-28 15:12:36</td>\n",
       "      <td>11 St &amp; 35 Ave, New York, NY</td>\n",
       "      <td>00:47:38</td>\n",
       "      <td>[{'bounds': {'northeast': {'lat': 40.7628454, ...</td>\n",
       "      <td>7.5</td>\n",
       "      <td>43 mins</td>\n",
       "      <td>9.447166</td>\n",
       "    </tr>\n",
       "    <tr>\n",
       "      <th>1</th>\n",
       "      <td>2018-04-24 08:09:43</td>\n",
       "      <td>1 Ave &amp; E 68 St, New York, NY</td>\n",
       "      <td>2018-04-24 08:29:39</td>\n",
       "      <td>E 19 St &amp; 3 Ave, New York, NY</td>\n",
       "      <td>00:19:56</td>\n",
       "      <td>[{'bounds': {'northeast': {'lat': 40.7652381, ...</td>\n",
       "      <td>3.1</td>\n",
       "      <td>17 mins</td>\n",
       "      <td>9.331104</td>\n",
       "    </tr>\n",
       "    <tr>\n",
       "      <th>2</th>\n",
       "      <td>2018-04-23 08:20:09</td>\n",
       "      <td>Bond St &amp; Fulton St, New York, NY</td>\n",
       "      <td>2018-04-23 08:46:25</td>\n",
       "      <td>E 19 St &amp; 3 Ave, New York, NY</td>\n",
       "      <td>00:26:16</td>\n",
       "      <td>[{'bounds': {'northeast': {'lat': 40.7363809, ...</td>\n",
       "      <td>4.2</td>\n",
       "      <td>25 mins</td>\n",
       "      <td>9.593909</td>\n",
       "    </tr>\n",
       "    <tr>\n",
       "      <th>3</th>\n",
       "      <td>2018-04-18 17:55:20</td>\n",
       "      <td>E 19 St &amp; 3 Ave, New York, NY</td>\n",
       "      <td>2018-04-18 18:25:50</td>\n",
       "      <td>Bond St &amp; Fulton St, New York, NY</td>\n",
       "      <td>00:30:30</td>\n",
       "      <td>[{'bounds': {'northeast': {'lat': 40.736971, '...</td>\n",
       "      <td>4.0</td>\n",
       "      <td>23 mins</td>\n",
       "      <td>7.868852</td>\n",
       "    </tr>\n",
       "    <tr>\n",
       "      <th>4</th>\n",
       "      <td>2018-04-14 18:35:31</td>\n",
       "      <td>Central Park West &amp; W 85 St, New York, NY</td>\n",
       "      <td>2018-04-14 18:47:31</td>\n",
       "      <td>E 71 St &amp; 1 Ave, New York, NY</td>\n",
       "      <td>00:12:00</td>\n",
       "      <td>[{'bounds': {'northeast': {'lat': 40.784612, '...</td>\n",
       "      <td>3.1</td>\n",
       "      <td>20 mins</td>\n",
       "      <td>15.500000</td>\n",
       "    </tr>\n",
       "  </tbody>\n",
       "</table>\n",
       "</div>"
      ],
      "text/plain": [
       "           start_time                                  start_loc  \\\n",
       "0 2018-04-28 14:24:58          Bond St & Fulton St, New York, NY   \n",
       "1 2018-04-24 08:09:43              1 Ave & E 68 St, New York, NY   \n",
       "2 2018-04-23 08:20:09          Bond St & Fulton St, New York, NY   \n",
       "3 2018-04-18 17:55:20              E 19 St & 3 Ave, New York, NY   \n",
       "4 2018-04-14 18:35:31  Central Park West & W 85 St, New York, NY   \n",
       "\n",
       "             end_time                            end_loc duration  \\\n",
       "0 2018-04-28 15:12:36       11 St & 35 Ave, New York, NY 00:47:38   \n",
       "1 2018-04-24 08:29:39      E 19 St & 3 Ave, New York, NY 00:19:56   \n",
       "2 2018-04-23 08:46:25      E 19 St & 3 Ave, New York, NY 00:26:16   \n",
       "3 2018-04-18 18:25:50  Bond St & Fulton St, New York, NY 00:30:30   \n",
       "4 2018-04-14 18:47:31      E 71 St & 1 Ave, New York, NY 00:12:00   \n",
       "\n",
       "                                          directions dist_miles google_time  \\\n",
       "0  [{'bounds': {'northeast': {'lat': 40.7628454, ...        7.5     43 mins   \n",
       "1  [{'bounds': {'northeast': {'lat': 40.7652381, ...        3.1     17 mins   \n",
       "2  [{'bounds': {'northeast': {'lat': 40.7363809, ...        4.2     25 mins   \n",
       "3  [{'bounds': {'northeast': {'lat': 40.736971, '...        4.0     23 mins   \n",
       "4  [{'bounds': {'northeast': {'lat': 40.784612, '...        3.1     20 mins   \n",
       "\n",
       "   speed_mph  \n",
       "0   9.447166  \n",
       "1   9.331104  \n",
       "2   9.593909  \n",
       "3   7.868852  \n",
       "4  15.500000  "
      ]
     },
     "execution_count": 33,
     "metadata": {},
     "output_type": "execute_result"
    }
   ],
   "source": [
    "trips_df.head()"
   ]
  },
  {
   "cell_type": "markdown",
   "metadata": {},
   "source": [
    "I'll plot the ride speeds as a histogram to get a sense of the distribution of my ride speeds."
   ]
  },
  {
   "cell_type": "code",
   "execution_count": 34,
   "metadata": {},
   "outputs": [
    {
     "data": {
      "image/png": "[encoded data removed]",
      "text/plain": [
       "<matplotlib.figure.Figure at 0x7f4ab5211b70>"
      ]
     },
     "metadata": {},
     "output_type": "display_data"
    }
   ],
   "source": [
    "num_bins = 20\n",
    "fig, ax = plt.subplots()\n",
    "\n",
    "ax.hist(trips_df['speed_mph'], bins=num_bins)\n",
    "ax.set_xlabel('Speeds (mph)')\n",
    "ax.set_ylabel('Number of Rides')\n",
    "ax.set_title('Histogram of Ride Speeds')\n",
    "\n",
    "fig.tight_layout()\n",
    "plt.show()"
   ]
  },
  {
   "cell_type": "markdown",
   "metadata": {},
   "source": [
    "Seems like a pretty safe bet that I beat the Citibike bike assumed 7.456 mph. Let's take a look at those outliers."
   ]
  },
  {
   "cell_type": "code",
   "execution_count": 35,
   "metadata": {},
   "outputs": [
    {
     "data": {
      "text/html": [
       "<div>\n",
       "<style scoped>\n",
       "    .dataframe tbody tr th:only-of-type {\n",
       "        vertical-align: middle;\n",
       "    }\n",
       "\n",
       "    .dataframe tbody tr th {\n",
       "        vertical-align: top;\n",
       "    }\n",
       "\n",
       "    .dataframe thead th {\n",
       "        text-align: right;\n",
       "    }\n",
       "</style>\n",
       "<table border=\"1\" class=\"dataframe\">\n",
       "  <thead>\n",
       "    <tr style=\"text-align: right;\">\n",
       "      <th></th>\n",
       "      <th>start_time</th>\n",
       "      <th>start_loc</th>\n",
       "      <th>end_time</th>\n",
       "      <th>end_loc</th>\n",
       "      <th>duration</th>\n",
       "      <th>directions</th>\n",
       "      <th>dist_miles</th>\n",
       "      <th>google_time</th>\n",
       "      <th>speed_mph</th>\n",
       "    </tr>\n",
       "  </thead>\n",
       "  <tbody>\n",
       "    <tr>\n",
       "      <th>4</th>\n",
       "      <td>2018-04-14 18:35:31</td>\n",
       "      <td>Central Park West &amp; W 85 St, New York, NY</td>\n",
       "      <td>2018-04-14 18:47:31</td>\n",
       "      <td>E 71 St &amp; 1 Ave, New York, NY</td>\n",
       "      <td>00:12:00</td>\n",
       "      <td>[{'bounds': {'northeast': {'lat': 40.784612, '...</td>\n",
       "      <td>3.1</td>\n",
       "      <td>20 mins</td>\n",
       "      <td>15.500000</td>\n",
       "    </tr>\n",
       "    <tr>\n",
       "      <th>20</th>\n",
       "      <td>2018-02-19 18:41:51</td>\n",
       "      <td>Bond St &amp; Fulton St, New York, NY</td>\n",
       "      <td>2018-02-19 18:50:57</td>\n",
       "      <td>7 St &amp; 3 Ave, New York, NY</td>\n",
       "      <td>00:09:06</td>\n",
       "      <td>[{'bounds': {'northeast': {'lat': 40.7289111, ...</td>\n",
       "      <td>3.6</td>\n",
       "      <td>22 mins</td>\n",
       "      <td>23.736264</td>\n",
       "    </tr>\n",
       "    <tr>\n",
       "      <th>29</th>\n",
       "      <td>2017-12-16 20:57:11</td>\n",
       "      <td>E 45 St &amp; 3 Ave, New York, NY</td>\n",
       "      <td>2017-12-16 20:59:03</td>\n",
       "      <td>E 47 St &amp; 1 Ave, New York, NY</td>\n",
       "      <td>00:01:52</td>\n",
       "      <td>[{'bounds': {'northeast': {'lat': 40.7533249, ...</td>\n",
       "      <td>0.4</td>\n",
       "      <td>3 mins</td>\n",
       "      <td>12.857143</td>\n",
       "    </tr>\n",
       "    <tr>\n",
       "      <th>46</th>\n",
       "      <td>2017-09-29 21:18:20</td>\n",
       "      <td>Amsterdam Ave &amp; W 82 St, New York, NY</td>\n",
       "      <td>2017-09-29 21:32:21</td>\n",
       "      <td>1 Ave &amp; E 68 St, New York, NY</td>\n",
       "      <td>00:14:01</td>\n",
       "      <td>[{'bounds': {'northeast': {'lat': 40.7851039, ...</td>\n",
       "      <td>3.6</td>\n",
       "      <td>25 mins</td>\n",
       "      <td>15.410226</td>\n",
       "    </tr>\n",
       "  </tbody>\n",
       "</table>\n",
       "</div>"
      ],
      "text/plain": [
       "            start_time                                  start_loc  \\\n",
       "4  2018-04-14 18:35:31  Central Park West & W 85 St, New York, NY   \n",
       "20 2018-02-19 18:41:51          Bond St & Fulton St, New York, NY   \n",
       "29 2017-12-16 20:57:11              E 45 St & 3 Ave, New York, NY   \n",
       "46 2017-09-29 21:18:20      Amsterdam Ave & W 82 St, New York, NY   \n",
       "\n",
       "              end_time                        end_loc duration  \\\n",
       "4  2018-04-14 18:47:31  E 71 St & 1 Ave, New York, NY 00:12:00   \n",
       "20 2018-02-19 18:50:57     7 St & 3 Ave, New York, NY 00:09:06   \n",
       "29 2017-12-16 20:59:03  E 47 St & 1 Ave, New York, NY 00:01:52   \n",
       "46 2017-09-29 21:32:21  1 Ave & E 68 St, New York, NY 00:14:01   \n",
       "\n",
       "                                           directions dist_miles google_time  \\\n",
       "4   [{'bounds': {'northeast': {'lat': 40.784612, '...        3.1     20 mins   \n",
       "20  [{'bounds': {'northeast': {'lat': 40.7289111, ...        3.6     22 mins   \n",
       "29  [{'bounds': {'northeast': {'lat': 40.7533249, ...        0.4      3 mins   \n",
       "46  [{'bounds': {'northeast': {'lat': 40.7851039, ...        3.6     25 mins   \n",
       "\n",
       "    speed_mph  \n",
       "4   15.500000  \n",
       "20  23.736264  \n",
       "29  12.857143  \n",
       "46  15.410226  "
      ]
     },
     "execution_count": 35,
     "metadata": {},
     "output_type": "execute_result"
    }
   ],
   "source": [
    "trips_df[trips_df.speed_mph > 12]"
   ]
  },
  {
   "cell_type": "markdown",
   "metadata": {},
   "source": [
    "Luckily, these are my own rides so I can recall that I did indeed take shortcuts on id=4 and id=46 above. Also, at 23mph, that id=20 is a particularly egregious failing of my hacky attempt to prep the station locations for Google Maps API."
   ]
  },
  {
   "cell_type": "code",
   "execution_count": 36,
   "metadata": {},
   "outputs": [],
   "source": [
    "# Based on histogram above, assume that rides over 13 mph are erroneous -- i.e., I took a shortcut down a one-way compared\n",
    "# to what Google suggested, or, for the > 20 mph ride, the address/pathfinding is wrong because of Brooklyn vs NY, NY.\n",
    "trips_df = trips_df.drop(trips_df[trips_df.speed_mph > 13].index)"
   ]
  },
  {
   "cell_type": "code",
   "execution_count": 37,
   "metadata": {
    "scrolled": false
   },
   "outputs": [
    {
     "data": {
      "image/png": "[encoded data removed]",
      "text/plain": [
       "<matplotlib.figure.Figure at 0x7f4ab51bfe10>"
      ]
     },
     "metadata": {},
     "output_type": "display_data"
    }
   ],
   "source": [
    "num_bins = 20\n",
    "fig, ax = plt.subplots()\n",
    "\n",
    "ax.hist(trips_df['speed_mph'], bins=num_bins)\n",
    "ax.set_xlabel('Speeds (mph)')\n",
    "ax.set_ylabel('Number of Rides')\n",
    "ax.set_title('Histogram of Ride Speeds')\n",
    "\n",
    "fig.tight_layout()\n",
    "plt.show()"
   ]
  },
  {
   "cell_type": "code",
   "execution_count": 38,
   "metadata": {},
   "outputs": [
    {
     "data": {
      "text/plain": [
       "count    133.000000\n",
       "mean       9.421751\n",
       "std        1.576220\n",
       "min        4.500000\n",
       "25%        8.622754\n",
       "50%        9.606742\n",
       "75%       10.485437\n",
       "max       12.857143\n",
       "Name: speed_mph, dtype: float64"
      ]
     },
     "execution_count": 38,
     "metadata": {},
     "output_type": "execute_result"
    }
   ],
   "source": [
    "trips_df['speed_mph'].describe()"
   ]
  },
  {
   "cell_type": "markdown",
   "metadata": {},
   "source": [
    "As guessed, on average, I ride faster than the Citibike app expects and the in-app distance numbers are underestimated."
   ]
  },
  {
   "cell_type": "code",
   "execution_count": 52,
   "metadata": {
    "scrolled": true
   },
   "outputs": [
    {
     "data": {
      "text/plain": [
       "start_time                                   2017-04-19 08:21:15\n",
       "start_loc                      Bond St & Fulton St, New York, NY\n",
       "end_time                                     2017-04-19 08:23:55\n",
       "end_loc                Duffield St & Willoughby St, New York, NY\n",
       "duration                                         0 days 00:02:40\n",
       "directions     [{'bounds': {'northeast': {'lat': 40.6921215, ...\n",
       "dist_miles                                                   0.2\n",
       "google_time                                               2 mins\n",
       "speed_mph                                                    4.5\n",
       "Name: 122, dtype: object"
      ]
     },
     "execution_count": 52,
     "metadata": {},
     "output_type": "execute_result"
    }
   ],
   "source": [
    "trips_df.loc[trips_df.speed_mph.idxmin()]"
   ]
  },
  {
   "cell_type": "markdown",
   "metadata": {},
   "source": [
    "The slowest trip I took, I recall being one where I had to fiddle with the seat and I docked it as soon as I could."
   ]
  },
  {
   "cell_type": "code",
   "execution_count": 74,
   "metadata": {},
   "outputs": [
    {
     "name": "stdout",
     "output_type": "stream",
     "text": [
      "The total time spent riding Citibike is 44.6 hours.\n",
      "The total distance traveled using Citibike is 420.2 miles.\n"
     ]
    }
   ],
   "source": [
    "trip_time = trips_df['duration'].sum()\n",
    "\n",
    "days = trip_time.days\n",
    "hours, remainder = divmod(trip_time.seconds, 3600)\n",
    "minutes, seconds = divmod(remainder, 60)\n",
    "\n",
    "trip_time = days * 24 + hours + minutes/60\n",
    "\n",
    "\n",
    "print(\"The total time spent riding Citibike is %.1f hours.\" % (trip_time))\n",
    "print(\"The total distance traveled using Citibike is %.1f miles.\" % (trip_time*trips_df['speed_mph'].mean()))\n"
   ]
  }
 ],
 "metadata": {
  "kernelspec": {
   "display_name": "Python 3",
   "language": "python",
   "name": "python3"
  },
  "language_info": {
   "codemirror_mode": {
    "name": "ipython",
    "version": 3
   },
   "file_extension": ".py",
   "mimetype": "text/x-python",
   "name": "python",
   "nbconvert_exporter": "python",
   "pygments_lexer": "ipython3",
   "version": "3.6.4"
  }
 },
 "nbformat": 4,
 "nbformat_minor": 2
}
